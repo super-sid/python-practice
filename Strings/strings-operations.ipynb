{
 "cells": [
  {
   "cell_type": "markdown",
   "metadata": {},
   "source": [
    "### Split function"
   ]
  },
  {
   "cell_type": "code",
   "execution_count": 2,
   "metadata": {},
   "outputs": [
    {
     "name": "stdout",
     "output_type": "stream",
     "text": [
      "['Blake', 'Shelton', 'is', 'cool', 'and', 'has', 'a', 'nice', 'voice']\n"
     ]
    }
   ],
   "source": [
    "a = \"Blake Shelton is cool and has a nice voice\"\n",
    "b = a.split()                                        # here split has default argument i.e. 'space'\n",
    "print(b)"
   ]
  },
  {
   "cell_type": "code",
   "execution_count": 6,
   "metadata": {},
   "outputs": [
    {
     "name": "stdout",
     "output_type": "stream",
     "text": [
      "['Blake', 'Shelton is cool and has a nice voice']\n"
     ]
    }
   ],
   "source": [
    "a = \"Blake,Shelton is cool and has a nice voice\"\n",
    "b = a.split(\",\")                                     # here split has ',' as argument\n",
    "print(b)"
   ]
  },
  {
   "cell_type": "code",
   "execution_count": 13,
   "metadata": {},
   "outputs": [
    {
     "name": "stdout",
     "output_type": "stream",
     "text": [
      "['Blake', 'Shelton', 'is', 'cool and has a nice voice']\n"
     ]
    }
   ],
   "source": [
    "a = \"Blake Shelton is cool and has a nice voice\"\n",
    "b = a.split(\" \",3)            # here split's second argument is number which splits up string wrt number entered\n",
    "print(b)"
   ]
  },
  {
   "cell_type": "markdown",
   "metadata": {},
   "source": [
    "### Replace function"
   ]
  },
  {
   "cell_type": "code",
   "execution_count": 15,
   "metadata": {},
   "outputs": [
    {
     "name": "stdout",
     "output_type": "stream",
     "text": [
      "Zayn is cool and has a nice voice\n"
     ]
    }
   ],
   "source": [
    "a = \"Blake Shelton is cool and has a nice voice\"\n",
    "b = a.replace(\"Blake Shelton\",\"Zayn\")\n",
    "print(b)"
   ]
  },
  {
   "cell_type": "code",
   "execution_count": 20,
   "metadata": {},
   "outputs": [
    {
     "name": "stdout",
     "output_type": "stream",
     "text": [
      "Blake Shelton is not cool and has a not cool voice but still cool\n"
     ]
    }
   ],
   "source": [
    "a = \"Blake Shelton is cool and has a cool voice but still cool\"\n",
    "b = a.replace(\"cool\",\"not cool\",2)         # Here 3rd arg. decides how many times a string should be replaced\n",
    "print(b)"
   ]
  },
  {
   "cell_type": "markdown",
   "metadata": {},
   "source": [
    "### Find Function"
   ]
  },
  {
   "cell_type": "code",
   "execution_count": 30,
   "metadata": {},
   "outputs": [
    {
     "name": "stdout",
     "output_type": "stream",
     "text": [
      "17\n"
     ]
    }
   ],
   "source": [
    "a = \"Blake Shelton is cool and has a cool voice but still cool\"\n",
    "b = a.find(\"cool\")                   # returns index acc. to string found\n",
    "print(b)"
   ]
  },
  {
   "cell_type": "code",
   "execution_count": 35,
   "metadata": {},
   "outputs": [
    {
     "name": "stdout",
     "output_type": "stream",
     "text": [
      "32\n"
     ]
    }
   ],
   "source": [
    "a = \"Blake Shelton is cool and has a cool voice but still cool\"\n",
    "b = a.find(\"cool\",18,45)                   # returns index acc. to string found b/w 2nd and 3rd arg (numbers)\n",
    "print(b)"
   ]
  },
  {
   "cell_type": "markdown",
   "metadata": {},
   "source": [
    "### to Upper and to Lower"
   ]
  },
  {
   "cell_type": "code",
   "execution_count": 41,
   "metadata": {},
   "outputs": [
    {
     "name": "stdout",
     "output_type": "stream",
     "text": [
      "BLAKE SHELTON IS COOL AND HAS A COOL VOICE BUT STILL COOL\n",
      "blake shelton is cool and has a cool voice but still cool\n"
     ]
    }
   ],
   "source": [
    "a = \"Blake Shelton is cool and has a cool voice but still cool\"\n",
    "b = a.upper()\n",
    "c = a.lower()\n",
    "print(b)\n",
    "print(c)"
   ]
  },
  {
   "cell_type": "markdown",
   "metadata": {},
   "source": [
    "### Starts with"
   ]
  },
  {
   "cell_type": "code",
   "execution_count": 44,
   "metadata": {},
   "outputs": [
    {
     "name": "stdout",
     "output_type": "stream",
     "text": [
      "True\n"
     ]
    }
   ],
   "source": [
    "a = \"Blake Shelton is cool and has a cool voice but still cool\"\n",
    "b = a.startswith(\"B\")\n",
    "print(b)"
   ]
  },
  {
   "cell_type": "code",
   "execution_count": 47,
   "metadata": {},
   "outputs": [
    {
     "name": "stdout",
     "output_type": "stream",
     "text": [
      "True\n"
     ]
    }
   ],
   "source": [
    "a = \"Blake Shelton is cool and has a cool voice but still cool\"\n",
    "b = a.startswith(\"a\",22,40)\n",
    "print(b)"
   ]
  },
  {
   "cell_type": "markdown",
   "metadata": {},
   "source": [
    "### Question"
   ]
  },
  {
   "cell_type": "code",
   "execution_count": 50,
   "metadata": {},
   "outputs": [
    {
     "name": "stdout",
     "output_type": "stream",
     "text": [
      "ebcedefe\n"
     ]
    }
   ],
   "source": [
    "def replaceC(str,m,r):\n",
    "    random = \"\"\n",
    "    for i in str:\n",
    "        if i == m:\n",
    "            random += r\n",
    "        else:\n",
    "            random += i\n",
    "    return random\n",
    "a = \"abcadefa\"\n",
    "b = replaceC(a,'a','e')\n",
    "print(b)"
   ]
  }
 ],
 "metadata": {
  "kernelspec": {
   "display_name": "Python 3",
   "language": "python",
   "name": "python3"
  },
  "language_info": {
   "codemirror_mode": {
    "name": "ipython",
    "version": 3
   },
   "file_extension": ".py",
   "mimetype": "text/x-python",
   "name": "python",
   "nbconvert_exporter": "python",
   "pygments_lexer": "ipython3",
   "version": "3.6.8"
  }
 },
 "nbformat": 4,
 "nbformat_minor": 2
}
