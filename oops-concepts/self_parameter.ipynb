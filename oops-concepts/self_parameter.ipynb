{
 "cells": [
  {
   "cell_type": "code",
   "execution_count": 2,
   "metadata": {},
   "outputs": [
    {
     "name": "stdout",
     "output_type": "stream",
     "text": [
      "Name:  Sid\n",
      "Percentage:  80\n",
      "Name:  Sid\n",
      "Percentage:  80\n",
      "Student's Good\n",
      "Okay hey there!\n"
     ]
    }
   ],
   "source": [
    "class Student:\n",
    "    passingPercentage = 40\n",
    "    def studentDetails(self):  # here self is a object being passed to this method\n",
    "        self.name = \"Sid\"    #i.e. s1.name = \"Sid\"\n",
    "        print(\"Name: \",self.name)\n",
    "        self.percentage = 80\n",
    "        print(\"Percentage: \",self.percentage)\n",
    "    def isPassed(self):\n",
    "        if self.percentage > Student.passingPercentage:\n",
    "            print(\"Student's Good\")\n",
    "        else:\n",
    "            print(\"Damn!, that's bad\")\n",
    "    @staticmethod\n",
    "    def welcomeToSchool():\n",
    "        print(\"Okay hey there!\")\n",
    "s1 = Student()\n",
    "s1.studentDetails()\n",
    "#above is equivalent to below\n",
    "Student.studentDetails(s1)\n",
    "s1.isPassed()\n",
    "s1.welcomeToSchool()"
   ]
  },
  {
   "cell_type": "code",
   "execution_count": null,
   "metadata": {},
   "outputs": [],
   "source": []
  }
 ],
 "metadata": {
  "kernelspec": {
   "display_name": "Python 3",
   "language": "python",
   "name": "python3"
  },
  "language_info": {
   "codemirror_mode": {
    "name": "ipython",
    "version": 3
   },
   "file_extension": ".py",
   "mimetype": "text/x-python",
   "name": "python",
   "nbconvert_exporter": "python",
   "pygments_lexer": "ipython3",
   "version": "3.6.9"
  }
 },
 "nbformat": 4,
 "nbformat_minor": 2
}
