{
 "cells": [
  {
   "cell_type": "code",
   "execution_count": 4,
   "metadata": {},
   "outputs": [],
   "source": [
    "def replacePi(string):\n",
    "    if len(string) == 0 or len(string) == 1:\n",
    "        return string\n",
    "    \n",
    "    if string[0] == 'p' and string[1] == 'i':\n",
    "        smallOutput = replacePi(string[2:])\n",
    "        return \"3.14\" + smallOutput\n",
    "    else:\n",
    "        smallOutput = replacePi(string[1:])\n",
    "        return string[0] + smallOutput\n",
    "    "
   ]
  },
  {
   "cell_type": "code",
   "execution_count": 6,
   "metadata": {},
   "outputs": [
    {
     "data": {
      "text/plain": [
       "'3.14XDX'"
      ]
     },
     "execution_count": 6,
     "metadata": {},
     "output_type": "execute_result"
    }
   ],
   "source": [
    "replacePi(\"piXDX\")"
   ]
  },
  {
   "cell_type": "markdown",
   "metadata": {},
   "source": [
    "### Replacing chars (duplicate) recursively"
   ]
  },
  {
   "cell_type": "code",
   "execution_count": 7,
   "metadata": {},
   "outputs": [],
   "source": [
    "def removeConsecutiveDuplicates(string):\n",
    "    if len(string) == 0 or len(string) == 1:\n",
    "        return string\n",
    "    if string[1] == string[0]:\n",
    "        str2 = string[1:]\n",
    "        smallOutput = removeConsecutiveDuplicates(str2)\n",
    "        return smallOutput\n",
    "    else:\n",
    "        smallOutput = removeConsecutiveDuplicates(string[1:])\n",
    "        return string[0] + smallOutput"
   ]
  },
  {
   "cell_type": "code",
   "execution_count": 8,
   "metadata": {},
   "outputs": [
    {
     "data": {
      "text/plain": [
       "'tadayutaysgcgtgytytyik'"
      ]
     },
     "execution_count": 8,
     "metadata": {},
     "output_type": "execute_result"
    }
   ],
   "source": [
    "removeConsecutiveDuplicates(\"tadayutaysgcgtttggytytyyyikk\")"
   ]
  }
 ],
 "metadata": {
  "kernelspec": {
   "display_name": "Python 3",
   "language": "python",
   "name": "python3"
  },
  "language_info": {
   "codemirror_mode": {
    "name": "ipython",
    "version": 3
   },
   "file_extension": ".py",
   "mimetype": "text/x-python",
   "name": "python",
   "nbconvert_exporter": "python",
   "pygments_lexer": "ipython3",
   "version": "3.6.9"
  }
 },
 "nbformat": 4,
 "nbformat_minor": 2
}
