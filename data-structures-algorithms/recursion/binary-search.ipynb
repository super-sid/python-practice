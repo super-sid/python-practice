{
 "cells": [
  {
   "cell_type": "code",
   "execution_count": 1,
   "metadata": {},
   "outputs": [],
   "source": [
    "def binarySearch(string, x, si, ei):\n",
    "    if si > ei:\n",
    "        return -1\n",
    "    mid = (si+ei)//2\n",
    "    if string[mid] == x:\n",
    "        return mid\n",
    "    elif string[mid] > x:\n",
    "        return binarySearch(string, x, si, mid-1)\n",
    "    else:\n",
    "        return binarySearch(string, x, mid+1, ei)"
   ]
  },
  {
   "cell_type": "code",
   "execution_count": 3,
   "metadata": {},
   "outputs": [
    {
     "data": {
      "text/plain": [
       "-1"
      ]
     },
     "execution_count": 3,
     "metadata": {},
     "output_type": "execute_result"
    }
   ],
   "source": [
    "a = [1,2,4,5,6,7,8,11,21]\n",
    "x = 3\n",
    "binarySearch(a,x,0,8)"
   ]
  }
 ],
 "metadata": {
  "kernelspec": {
   "display_name": "Python 3",
   "language": "python",
   "name": "python3"
  },
  "language_info": {
   "codemirror_mode": {
    "name": "ipython",
    "version": 3
   },
   "file_extension": ".py",
   "mimetype": "text/x-python",
   "name": "python",
   "nbconvert_exporter": "python",
   "pygments_lexer": "ipython3",
   "version": "3.6.9"
  }
 },
 "nbformat": 4,
 "nbformat_minor": 2
}
