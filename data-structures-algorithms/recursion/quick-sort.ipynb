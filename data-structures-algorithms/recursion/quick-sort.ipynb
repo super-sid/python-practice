{
 "cells": [
  {
   "cell_type": "code",
   "execution_count": 3,
   "metadata": {},
   "outputs": [],
   "source": [
    "def partition(arr,start,end):\n",
    "    n = len(arr)\n",
    "    x = arr[start]\n",
    "    c = 0\n",
    "    for i in range(start,end+1):\n",
    "        if arr[i] < x:\n",
    "            c = c+1\n",
    "    arr[start], arr[start+c] = arr[start+c],arr[start]\n",
    "    pi = start + c\n",
    "    w = start\n",
    "    e = end\n",
    "    while w < e:\n",
    "        if arr[w]<arr[pi]:\n",
    "            w = w+1\n",
    "        elif arr[e]>=arr[pi]:\n",
    "            e = e-1\n",
    "        else:\n",
    "            arr[w],arr[e] = arr[e],arr[w]\n",
    "    return pi"
   ]
  },
  {
   "cell_type": "code",
   "execution_count": 4,
   "metadata": {},
   "outputs": [],
   "source": [
    "def quickSort(arr, start, end):\n",
    "    if start >= end:\n",
    "        return\n",
    "    z = partition(arr,start,end)\n",
    "    quickSort(arr,start,z-1)\n",
    "    quickSort(arr,z+1,end)"
   ]
  },
  {
   "cell_type": "code",
   "execution_count": 6,
   "metadata": {},
   "outputs": [
    {
     "name": "stdout",
     "output_type": "stream",
     "text": [
      "0 1 1 4 6 8 9\n"
     ]
    }
   ],
   "source": [
    "# n=int(input())\n",
    "arr=[6,4,1,8,9,1,0]\n",
    "quickSort(arr, 0, 7-1)\n",
    "print(*arr)"
   ]
  }
 ],
 "metadata": {
  "kernelspec": {
   "display_name": "Python 3",
   "language": "python",
   "name": "python3"
  },
  "language_info": {
   "codemirror_mode": {
    "name": "ipython",
    "version": 3
   },
   "file_extension": ".py",
   "mimetype": "text/x-python",
   "name": "python",
   "nbconvert_exporter": "python",
   "pygments_lexer": "ipython3",
   "version": "3.6.9"
  }
 },
 "nbformat": 4,
 "nbformat_minor": 2
}
