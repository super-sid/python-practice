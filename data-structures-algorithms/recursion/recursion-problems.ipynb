{
 "cells": [
  {
   "cell_type": "code",
   "execution_count": null,
   "metadata": {},
   "outputs": [],
   "source": [
    "def fibo(n):\n",
    "    if n == 1 or n == 0:\n",
    "        return n\n",
    "    return fibo(n-1)+fibo(n-2)\n",
    "n = 1000\n",
    "fibo(n)"
   ]
  },
  {
   "cell_type": "markdown",
   "metadata": {},
   "source": [
    "### Check if list is Sorted or not using Recursion"
   ]
  },
  {
   "cell_type": "code",
   "execution_count": 12,
   "metadata": {},
   "outputs": [
    {
     "data": {
      "text/plain": [
       "True"
      ]
     },
     "execution_count": 12,
     "metadata": {},
     "output_type": "execute_result"
    }
   ],
   "source": [
    "def isSorted(a):\n",
    "    l = len(a)\n",
    "    if l == 0 or l == 1:\n",
    "        return True\n",
    "    \n",
    "    if a[0]>a[1]:\n",
    "        return False\n",
    "    b = a[1:]          #The problem with this solution is it is making a lot of copies of list 'a'\n",
    "    isSortedVal = isSorted(b)\n",
    "    return isSortedVal\n",
    "ar = [7,2,9,1,3,5,6,4]\n",
    "ar1 = [1,2,4,5,6]\n",
    "isSorted(ar1)"
   ]
  },
  {
   "cell_type": "markdown",
   "metadata": {},
   "source": [
    "### Without making copies of list 'a'"
   ]
  },
  {
   "cell_type": "code",
   "execution_count": 16,
   "metadata": {},
   "outputs": [
    {
     "data": {
      "text/plain": [
       "False"
      ]
     },
     "execution_count": 16,
     "metadata": {},
     "output_type": "execute_result"
    }
   ],
   "source": [
    "def isSortedBetter(a,si):\n",
    "    l = len(a)\n",
    "    if si == l-1 or si == 1:\n",
    "        return True\n",
    "    if a[si]>a[si+1]:\n",
    "        return False\n",
    "    isSortedValB = isSortedBetter(a,si+1)\n",
    "    return isSortedValB\n",
    "ar = [7,2,9,1,3,5,6,4]\n",
    "ar1 = [1,2,4,5,6]\n",
    "isSortedBetter(ar,0)"
   ]
  },
  {
   "cell_type": "markdown",
   "metadata": {},
   "source": [
    "### Finding first index of given no. in a list (using many lists)"
   ]
  },
  {
   "cell_type": "code",
   "execution_count": 22,
   "metadata": {},
   "outputs": [
    {
     "data": {
      "text/plain": [
       "5"
      ]
     },
     "execution_count": 22,
     "metadata": {},
     "output_type": "execute_result"
    }
   ],
   "source": [
    "def findFirstIndex(a,x):\n",
    "    l = len(a)\n",
    "    if l == 0:\n",
    "        return -1\n",
    "    if a[0] == x:\n",
    "        return 0\n",
    "    b = a[1:]\n",
    "    firstIndex = findFirstIndex(b, x)\n",
    "    if firstIndex == -1:\n",
    "        return -1\n",
    "    else:\n",
    "        return firstIndex + 1\n",
    "\n",
    "a = [1,4,5,6,7,2]\n",
    "x = 2\n",
    "findFirstIndex(a,x)"
   ]
  },
  {
   "cell_type": "markdown",
   "metadata": {},
   "source": [
    "### Find first index of a given no. in a list (using one list)"
   ]
  },
  {
   "cell_type": "code",
   "execution_count": 31,
   "metadata": {},
   "outputs": [
    {
     "data": {
      "text/plain": [
       "-1"
      ]
     },
     "execution_count": 31,
     "metadata": {},
     "output_type": "execute_result"
    }
   ],
   "source": [
    "def findFirstIndex(a,x,si):\n",
    "    l = len(a)\n",
    "    if l == si:\n",
    "        return -1\n",
    "    if a[si] == x:\n",
    "        return si\n",
    "    else:\n",
    "        return findFirstIndex(a,x,si+1)\n",
    "a = [1,4,5,6,7,2]\n",
    "x = -40\n",
    "findFirstIndex(a,x,0)"
   ]
  },
  {
   "cell_type": "markdown",
   "metadata": {},
   "source": [
    "### Find last index of a given no. in a list  (using multiple lists)"
   ]
  },
  {
   "cell_type": "code",
   "execution_count": 45,
   "metadata": {},
   "outputs": [
    {
     "name": "stdout",
     "output_type": "stream",
     "text": [
      "5\n"
     ]
    }
   ],
   "source": [
    "def lastIndex(a,x):\n",
    "    l = len(a)\n",
    "    if l == 0:\n",
    "        return -1\n",
    "    newListOut = lastIndex(a[1:],x) \n",
    "    if newListOut != -1:\n",
    "        return newListOut+1\n",
    "    else:\n",
    "        if a[0] == x:\n",
    "            return 0\n",
    "        else:\n",
    "            return -1\n",
    "a = [1,2,5,6,7,2,9]\n",
    "x = 2\n",
    "print(lastIndex(a,x))"
   ]
  },
  {
   "cell_type": "code",
   "execution_count": 48,
   "metadata": {},
   "outputs": [
    {
     "name": "stdout",
     "output_type": "stream",
     "text": [
      "5\n"
     ]
    }
   ],
   "source": [
    "def lastIndexB(a,x,si):\n",
    "    l = len(a)\n",
    "    if l == si:\n",
    "        return -1\n",
    "    newListOut = lastIndexB(a,x,si+1) \n",
    "    if newListOut != -1:\n",
    "        return newListOut+1\n",
    "    else:\n",
    "        if a[si] == x:\n",
    "            return 0\n",
    "        else:\n",
    "            return -1\n",
    "a = [1,2,5,6,7,2,9]\n",
    "x = 2\n",
    "print(lastIndexB(a,x,0))"
   ]
  }
 ],
 "metadata": {
  "kernelspec": {
   "display_name": "Python 3",
   "language": "python",
   "name": "python3"
  },
  "language_info": {
   "codemirror_mode": {
    "name": "ipython",
    "version": 3
   },
   "file_extension": ".py",
   "mimetype": "text/x-python",
   "name": "python",
   "nbconvert_exporter": "python",
   "pygments_lexer": "ipython3",
   "version": "3.6.9"
  }
 },
 "nbformat": 4,
 "nbformat_minor": 2
}
