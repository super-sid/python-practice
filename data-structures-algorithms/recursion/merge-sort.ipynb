{
 "cells": [
  {
   "cell_type": "code",
   "execution_count": 15,
   "metadata": {},
   "outputs": [],
   "source": [
    "def merge(a1,a2,a):\n",
    "    i = 0\n",
    "    j = 0\n",
    "    k = 0\n",
    "    while i < len(a1) and j < len(a2):\n",
    "        if(a1[i]<a2[j]):\n",
    "            a[k] = a1[i]\n",
    "            k = k + 1\n",
    "            i = i + 1\n",
    "        else:\n",
    "            a[k] = a2[j]\n",
    "            k = k + 1\n",
    "            j = j + 1\n",
    "    while i < len(a1):\n",
    "        a[k] = a1[i]\n",
    "        k = k+1\n",
    "        i = i+1\n",
    "    while j < len(a2):\n",
    "        a[k] = a2[j]\n",
    "        k = k+1\n",
    "        j = j+1"
   ]
  },
  {
   "cell_type": "code",
   "execution_count": 11,
   "metadata": {},
   "outputs": [],
   "source": [
    "def merge_sort(a):\n",
    "    if len(a) == 0 or len(a) == 1:\n",
    "        return\n",
    "    mid = len(a)//2\n",
    "    a1 = a[0:mid]\n",
    "    a2 = a[mid:]\n",
    "    merge_sort(a1)\n",
    "    merge_sort(a2)\n",
    "    merge(a1,a2,a)"
   ]
  },
  {
   "cell_type": "code",
   "execution_count": 16,
   "metadata": {},
   "outputs": [
    {
     "data": {
      "text/plain": [
       "[1, 2, 3, 4, 11, 15]"
      ]
     },
     "execution_count": 16,
     "metadata": {},
     "output_type": "execute_result"
    }
   ],
   "source": [
    "a = [4,1,3,2,15,11]\n",
    "merge_sort(a)\n",
    "a"
   ]
  }
 ],
 "metadata": {
  "kernelspec": {
   "display_name": "Python 3",
   "language": "python",
   "name": "python3"
  },
  "language_info": {
   "codemirror_mode": {
    "name": "ipython",
    "version": 3
   },
   "file_extension": ".py",
   "mimetype": "text/x-python",
   "name": "python",
   "nbconvert_exporter": "python",
   "pygments_lexer": "ipython3",
   "version": "3.7.3"
  }
 },
 "nbformat": 4,
 "nbformat_minor": 2
}
