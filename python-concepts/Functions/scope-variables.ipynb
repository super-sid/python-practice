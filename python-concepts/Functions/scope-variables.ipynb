{
 "cells": [
  {
   "cell_type": "markdown",
   "metadata": {},
   "source": [
    "### Scope of Variables"
   ]
  },
  {
   "cell_type": "code",
   "execution_count": 5,
   "metadata": {},
   "outputs": [
    {
     "name": "stdout",
     "output_type": "stream",
     "text": [
      "10\n",
      "5\n"
     ]
    }
   ],
   "source": [
    "a1 = 10 # global variable\n",
    "\n",
    "def sn():\n",
    "    a2 = 5 # local variable\n",
    "    print(a2)\n",
    "\n",
    "print(a1)\n",
    "sn()\n",
    "# cant print a local variable outside the function"
   ]
  },
  {
   "cell_type": "code",
   "execution_count": 6,
   "metadata": {},
   "outputs": [
    {
     "name": "stdout",
     "output_type": "stream",
     "text": [
      "10\n",
      "5\n",
      "10\n"
     ]
    }
   ],
   "source": [
    "a1 = 10 # global variable\n",
    "\n",
    "def sn():\n",
    "    a2 = 5 # local variable\n",
    "    print(a2)\n",
    "    print(a1) # but a global variable can be called inside a function\n",
    "\n",
    "print(a1)\n",
    "sn()"
   ]
  },
  {
   "cell_type": "code",
   "execution_count": 8,
   "metadata": {},
   "outputs": [
    {
     "name": "stdout",
     "output_type": "stream",
     "text": [
      "10\n",
      "5\n",
      "10\n"
     ]
    }
   ],
   "source": [
    "def sn():\n",
    "    a2 = 5 # local variable\n",
    "    print(a2)\n",
    "    print(a1) # but a global variable can be called inside a function\n",
    "\n",
    "a1 = 10    # global variable can also be defined after function def. its just it has to be defined (i.e glob. var)\n",
    "           # before function is called\n",
    "print(a1) \n",
    "sn()"
   ]
  },
  {
   "cell_type": "code",
   "execution_count": 10,
   "metadata": {},
   "outputs": [
    {
     "name": "stdout",
     "output_type": "stream",
     "text": [
      "10\n",
      "94869355857344\n",
      "94869355857216\n"
     ]
    }
   ],
   "source": [
    "a3 = 10\n",
    "\n",
    "def sn():\n",
    "    a3 = 14\n",
    "    print(id(a3))\n",
    "print(a3)\n",
    "sn()\n",
    "print(id(a3))"
   ]
  },
  {
   "cell_type": "code",
   "execution_count": 12,
   "metadata": {},
   "outputs": [
    {
     "name": "stdout",
     "output_type": "stream",
     "text": [
      "10\n",
      "14\n",
      "94869355857344\n",
      "14\n",
      "94869355857344\n"
     ]
    }
   ],
   "source": [
    "a3 = 10\n",
    "\n",
    "def sn():\n",
    "    global a3   # Here the global variable a3 which was defined above is used\n",
    "    a3 = 14     # so here the old value i.e 10 will be overidden to 14\n",
    "    print(a3)\n",
    "    print(id(a3))\n",
    "print(a3)\n",
    "sn()\n",
    "print(a3)\n",
    "print(id(a3))"
   ]
  }
 ],
 "metadata": {
  "kernelspec": {
   "display_name": "Python 3",
   "language": "python",
   "name": "python3"
  },
  "language_info": {
   "codemirror_mode": {
    "name": "ipython",
    "version": 3
   },
   "file_extension": ".py",
   "mimetype": "text/x-python",
   "name": "python",
   "nbconvert_exporter": "python",
   "pygments_lexer": "ipython3",
   "version": "3.7.3"
  }
 },
 "nbformat": 4,
 "nbformat_minor": 2
}
