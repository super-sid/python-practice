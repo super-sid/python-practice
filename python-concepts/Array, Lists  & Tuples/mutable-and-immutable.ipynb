{
 "cells": [
  {
   "cell_type": "markdown",
   "metadata": {},
   "source": [
    "## Immutable"
   ]
  },
  {
   "cell_type": "code",
   "execution_count": 2,
   "metadata": {},
   "outputs": [
    {
     "name": "stdout",
     "output_type": "stream",
     "text": [
      "5\n",
      "5\n",
      "94007081206944\n",
      "94007081206944\n"
     ]
    }
   ],
   "source": [
    "a = 5  # here a is pointing to 5's reference\n",
    "b = a  # b is also pointing to a's ref. i.e. 5\n",
    "print(a)\n",
    "print(b)\n",
    "print(id(a))\n",
    "print(id(b))"
   ]
  },
  {
   "cell_type": "code",
   "execution_count": 4,
   "metadata": {},
   "outputs": [
    {
     "name": "stdout",
     "output_type": "stream",
     "text": [
      "5\n",
      "6\n",
      "94007081206944\n",
      "94007081206976\n"
     ]
    }
   ],
   "source": [
    "# but now changing value of b won't change a's reference\n",
    "b = 6\n",
    "print(a)\n",
    "print(b)\n",
    "print(id(a))\n",
    "print(id(b))"
   ]
  },
  {
   "cell_type": "markdown",
   "metadata": {},
   "source": [
    "#### Immutability in Functions (Passing Params as variables)"
   ]
  },
  {
   "cell_type": "code",
   "execution_count": 9,
   "metadata": {},
   "outputs": [
    {
     "name": "stdout",
     "output_type": "stream",
     "text": [
      "7\n",
      "9\n"
     ]
    }
   ],
   "source": [
    "def fn(a2):      # here although a's being passed in the function but when a's printed it still points to same '7'\n",
    "    a2 = a2 + 2  # but if we print a2 it will print '9'\n",
    "    return a2\n",
    "a = 7\n",
    "fn(a)   # here a's passed but the 'a' present in this scope stays same becuase it's reference doesn't change  \n",
    "print(a)\n",
    "a = fn(a) # here a is given the value the function returned\n",
    "print(a)"
   ]
  },
  {
   "cell_type": "markdown",
   "metadata": {},
   "source": [
    "### Mutable"
   ]
  },
  {
   "cell_type": "code",
   "execution_count": 11,
   "metadata": {},
   "outputs": [
    {
     "name": "stdout",
     "output_type": "stream",
     "text": [
      "[4, 5, 6, 7, 8]\n",
      "140229629597832\n",
      "[4, 5, 6, 7, 8]\n",
      "140229629597832\n"
     ]
    }
   ],
   "source": [
    "li = [4,5,6,7,8]\n",
    "ar = li       # both point to same referencing list\n",
    "print(li)\n",
    "print(id(li))\n",
    "print(ar)\n",
    "print(id(ar))"
   ]
  },
  {
   "cell_type": "code",
   "execution_count": 13,
   "metadata": {},
   "outputs": [
    {
     "name": "stdout",
     "output_type": "stream",
     "text": [
      "[4, 5, 6, 15, 8]\n",
      "140229629597832\n",
      "[4, 5, 6, 15, 8]\n",
      "140229629597832\n"
     ]
    }
   ],
   "source": [
    "# now if we do this \n",
    "ar[3] = 15\n",
    "print(li)       # we can see that the change done in one list is also reflected in other too\n",
    "print(id(li))\n",
    "print(ar)\n",
    "print(id(ar))"
   ]
  },
  {
   "cell_type": "code",
   "execution_count": 16,
   "metadata": {},
   "outputs": [
    {
     "name": "stdout",
     "output_type": "stream",
     "text": [
      "[4, 5, 6, 15, 8]\n",
      "140229629597832\n",
      "[3, 4, 421]\n",
      "140229638843784\n"
     ]
    }
   ],
   "source": [
    "# but if we do this\n",
    "ar = [3,4,421]\n",
    "print(li)       # we can see that the 2nd list points now to new reference and other list is unaffected \n",
    "print(id(li))\n",
    "print(ar)\n",
    "print(id(ar))"
   ]
  },
  {
   "cell_type": "markdown",
   "metadata": {},
   "source": [
    "#### Mutability in Functions (Passing Params as list)"
   ]
  },
  {
   "cell_type": "code",
   "execution_count": 17,
   "metadata": {},
   "outputs": [
    {
     "name": "stdout",
     "output_type": "stream",
     "text": [
      "[7, 10, 9, 10]\n"
     ]
    }
   ],
   "source": [
    "def fn(a2): # here list 'a' is passed and now the list present in this func and outside this scope point to same list\n",
    "    a2[1] = a2[1] + 2  \n",
    "    return a2\n",
    "a = [7,8,9,10]\n",
    "fn(a)   # now the changes to the list done in function will also be reflected to this list too i.e. cuz of mutability  \n",
    "print(a)"
   ]
  }
 ],
 "metadata": {
  "kernelspec": {
   "display_name": "Python 3",
   "language": "python",
   "name": "python3"
  },
  "language_info": {
   "codemirror_mode": {
    "name": "ipython",
    "version": 3
   },
   "file_extension": ".py",
   "mimetype": "text/x-python",
   "name": "python",
   "nbconvert_exporter": "python",
   "pygments_lexer": "ipython3",
   "version": "3.7.3"
  }
 },
 "nbformat": 4,
 "nbformat_minor": 2
}
