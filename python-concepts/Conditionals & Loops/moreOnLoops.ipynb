{
 "cells": [
  {
   "cell_type": "code",
   "execution_count": 2,
   "metadata": {},
   "outputs": [
    {
     "name": "stdout",
     "output_type": "stream",
     "text": [
      "a\n",
      "b\n",
      "c\n",
      "d\n"
     ]
    }
   ],
   "source": [
    "c = \"abcd\"\n",
    "for i in c:\n",
    "    print (i)"
   ]
  },
  {
   "cell_type": "code",
   "execution_count": 3,
   "metadata": {},
   "outputs": [
    {
     "name": "stdout",
     "output_type": "stream",
     "text": [
      "5\n",
      "0\n",
      "1\n",
      "2\n",
      "3\n",
      "4\n"
     ]
    }
   ],
   "source": [
    "# print numbers from 1 to n\n",
    "n = int(input())\n",
    "\n",
    "for i in range(1,n+1,1):\n",
    "    print(i)\n",
    "# the loop ends at n-1 if we enter n as 'end' value"
   ]
  },
  {
   "cell_type": "code",
   "execution_count": 4,
   "metadata": {},
   "outputs": [
    {
     "name": "stdout",
     "output_type": "stream",
     "text": [
      "4\n",
      "0\n",
      "1\n",
      "2\n",
      "3\n",
      "4\n"
     ]
    }
   ],
   "source": [
    "#default values\n",
    "\n",
    "# if there's only one argument in range method then automatically it is considered as 'end' value \n",
    "# and values of 'start' and 'stride' are considered 0 and 1 respectively\n",
    "\n",
    "n = int(input())\n",
    "\n",
    "for i in range(n+1):\n",
    "    print(i)"
   ]
  },
  {
   "cell_type": "code",
   "execution_count": 5,
   "metadata": {},
   "outputs": [
    {
     "name": "stdout",
     "output_type": "stream",
     "text": [
      "5\n",
      "0\n",
      "1\n",
      "2\n",
      "3\n",
      "4\n",
      "5\n"
     ]
    }
   ],
   "source": [
    "#default values\n",
    "\n",
    "# if there are two arguments in range method then 1st value is 'start' and 2nd value is 'stop' \n",
    "# and value of 'stride' is 1\n",
    "\n",
    "n = int(input())\n",
    "\n",
    "for i in range(0,n+1):\n",
    "    print(i)"
   ]
  },
  {
   "cell_type": "markdown",
   "metadata": {},
   "source": [
    "## else in Loops"
   ]
  },
  {
   "cell_type": "code",
   "execution_count": 6,
   "metadata": {},
   "outputs": [
    {
     "name": "stdout",
     "output_type": "stream",
     "text": [
      "1\n",
      "2\n",
      "3\n",
      "4\n",
      "5\n",
      "6\n",
      "7\n",
      "8\n",
      "9\n",
      "Some text that will be printed once\n"
     ]
    }
   ],
   "source": [
    "i = 1\n",
    "while i<10:\n",
    "    print(i)\n",
    "    i = i+1\n",
    "else:\n",
    "    print(\"Some text that will be printed once\")"
   ]
  },
  {
   "cell_type": "markdown",
   "metadata": {},
   "source": [
    "### Continue keyword in Loops"
   ]
  },
  {
   "cell_type": "code",
   "execution_count": 8,
   "metadata": {},
   "outputs": [
    {
     "name": "stdout",
     "output_type": "stream",
     "text": [
      "30\n",
      "1\n",
      "2\n",
      "3\n",
      "4\n",
      "5\n",
      "6\n",
      "8\n",
      "9\n",
      "10\n",
      "11\n",
      "12\n",
      "13\n",
      "15\n",
      "16\n",
      "17\n",
      "18\n",
      "19\n",
      "20\n",
      "22\n",
      "23\n",
      "24\n",
      "25\n",
      "26\n",
      "27\n",
      "29\n",
      "30\n"
     ]
    }
   ],
   "source": [
    "n = int(input())\n",
    "for i in range(0,n+1,1):\n",
    "    if(i%7==0):\n",
    "        continue\n",
    "    print(i)"
   ]
  },
  {
   "cell_type": "markdown",
   "metadata": {},
   "source": [
    "### PASS statement"
   ]
  },
  {
   "cell_type": "code",
   "execution_count": 9,
   "metadata": {},
   "outputs": [
    {
     "name": "stdout",
     "output_type": "stream",
     "text": [
      "i passed\n"
     ]
    }
   ],
   "source": [
    "i = 6\n",
    "if i<5:\n",
    "    pass\n",
    "print(\"i passed\")"
   ]
  },
  {
   "cell_type": "code",
   "execution_count": 3,
   "metadata": {},
   "outputs": [
    {
     "name": "stdout",
     "output_type": "stream",
     "text": [
      "4\n",
      "4444444\n",
      "4333334\n",
      "4322234\n",
      "4321234\n",
      "4322234\n",
      "4333334\n",
      "4444444\n"
     ]
    }
   ],
   "source": [
    "## Read input as specified in the question.\n",
    "## Print output as specified in the question.\n",
    "n = int(input())\n",
    "for i in range(n,0,-1):\n",
    "    for j in range(n,i,-1):\n",
    "        print(j,end=\"\")\n",
    "    for j in range(1,2*i):\n",
    "        print(i,end=\"\")\n",
    "    for j in range(i+1,n+1):\n",
    "        print(j,end=\"\")\n",
    "    print()\n",
    "for i in range(1,n):\n",
    "    for j in range(n,i,-1):\n",
    "        print(j,end=\"\")\n",
    "    for j in range(1,2*i):\n",
    "        print(i+1,end=\"\")\n",
    "    for j in range(i+1,n+1):\n",
    "        print(j,end=\"\")\n",
    "    print()"
   ]
  },
  {
   "cell_type": "code",
   "execution_count": null,
   "metadata": {},
   "outputs": [],
   "source": []
  }
 ],
 "metadata": {
  "kernelspec": {
   "display_name": "Python 3",
   "language": "python",
   "name": "python3"
  },
  "language_info": {
   "codemirror_mode": {
    "name": "ipython",
    "version": 3
   },
   "file_extension": ".py",
   "mimetype": "text/x-python",
   "name": "python",
   "nbconvert_exporter": "python",
   "pygments_lexer": "ipython3",
   "version": "3.6.8"
  }
 },
 "nbformat": 4,
 "nbformat_minor": 2
}
