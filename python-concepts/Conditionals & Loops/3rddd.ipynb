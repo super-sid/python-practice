{
 "cells": [
  {
   "cell_type": "markdown",
   "metadata": {},
   "source": [
    "## Isosceles Pattern"
   ]
  },
  {
   "cell_type": "markdown",
   "metadata": {},
   "source": [
    "#### Step 1 (Breaking Pattern into half)"
   ]
  },
  {
   "cell_type": "raw",
   "metadata": {},
   "source": [
    "   1\n",
    "  12\n",
    " 123\n",
    "1234"
   ]
  },
  {
   "cell_type": "code",
   "execution_count": 12,
   "metadata": {},
   "outputs": [
    {
     "name": "stdout",
     "output_type": "stream",
     "text": [
      "4\n",
      "        1 \n",
      "      1 2 \n",
      "    1 2 3 \n",
      "  1 2 3 4 \n"
     ]
    }
   ],
   "source": [
    "n = int(input())\n",
    "i = 1\n",
    "while i<=n:\n",
    "    spaces=1\n",
    "    while spaces <= n-i+1:\n",
    "        print(\" \",end=\" \")\n",
    "        spaces += 1\n",
    "    nums = 1\n",
    "    while nums <= i:\n",
    "        print(nums,end=\" \")\n",
    "        nums += 1\n",
    "    print()\n",
    "    i += 1\n",
    "    "
   ]
  },
  {
   "cell_type": "markdown",
   "metadata": {},
   "source": [
    "#### Step 2 (Introduce new variable)"
   ]
  },
  {
   "cell_type": "code",
   "execution_count": 15,
   "metadata": {},
   "outputs": [
    {
     "name": "stdout",
     "output_type": "stream",
     "text": [
      "4\n",
      "        1 \n",
      "      1 2 1 \n",
      "    1 2 3 2 1 \n",
      "  1 2 3 4 3 2 1 \n"
     ]
    }
   ],
   "source": [
    "n = int(input())\n",
    "i = 1\n",
    "while i<=n:\n",
    "    # Spaces\n",
    "    spaces=1\n",
    "    while spaces <= n-i+1:\n",
    "        print(\" \",end=\" \")\n",
    "        spaces += 1\n",
    "    # Numbers (increasing)\n",
    "    nums = 1\n",
    "    j = 1\n",
    "    while j <= i:\n",
    "        print(nums,end=\" \")\n",
    "        nums += 1\n",
    "        j += 1\n",
    "    # Numbers (decreasing)\n",
    "    nums = i - 1\n",
    "    j = 1\n",
    "    while j < i:\n",
    "        print(nums,end=\" \")\n",
    "        nums -= 1\n",
    "        j += 1\n",
    "    print()\n",
    "    i += 1\n",
    "    "
   ]
  },
  {
   "cell_type": "code",
   "execution_count": 63,
   "metadata": {},
   "outputs": [
    {
     "name": "stdout",
     "output_type": "stream",
     "text": [
      "4\n",
      "    1\n",
      "   232\n",
      "  34543\n",
      " 4567654\n"
     ]
    }
   ],
   "source": [
    "## Read input as specified in the question.\n",
    "## Print output as specified in the question.\n",
    "n = int(input())\n",
    "i = 1\n",
    "while i<= n:\n",
    "    spaces = 1\n",
    "    while spaces <= n-i+1:\n",
    "        print(\" \",end=\"\")\n",
    "        spaces += 1\n",
    "    p = 1\n",
    "    j = 0\n",
    "    while j <i:\n",
    "        print(j+i,end=\"\")\n",
    "        j += 1\n",
    "        p += 1\n",
    "    p = j+i-1\n",
    "    j = 1\n",
    "    while j<i:\n",
    "        print(p-1,end=\"\")\n",
    "        p -= 1\n",
    "        j += 1\n",
    "    print()\n",
    "    i += 1\n",
    "    "
   ]
  },
  {
   "cell_type": "code",
   "execution_count": null,
   "metadata": {},
   "outputs": [],
   "source": []
  },
  {
   "cell_type": "code",
   "execution_count": null,
   "metadata": {},
   "outputs": [],
   "source": []
  },
  {
   "cell_type": "code",
   "execution_count": null,
   "metadata": {},
   "outputs": [],
   "source": []
  }
 ],
 "metadata": {
  "kernelspec": {
   "display_name": "Python 3",
   "language": "python",
   "name": "python3"
  },
  "language_info": {
   "codemirror_mode": {
    "name": "ipython",
    "version": 3
   },
   "file_extension": ".py",
   "mimetype": "text/x-python",
   "name": "python",
   "nbconvert_exporter": "python",
   "pygments_lexer": "ipython3",
   "version": "3.7.3"
  }
 },
 "nbformat": 4,
 "nbformat_minor": 2
}
