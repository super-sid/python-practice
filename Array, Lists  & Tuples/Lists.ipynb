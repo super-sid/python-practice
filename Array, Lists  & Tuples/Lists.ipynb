{
 "cells": [
  {
   "cell_type": "markdown",
   "metadata": {},
   "source": [
    "### Creating a list in python"
   ]
  },
  {
   "cell_type": "code",
   "execution_count": 2,
   "metadata": {},
   "outputs": [],
   "source": [
    "li = []"
   ]
  },
  {
   "cell_type": "code",
   "execution_count": 5,
   "metadata": {},
   "outputs": [
    {
     "data": {
      "text/plain": [
       "[1, 2]"
      ]
     },
     "execution_count": 5,
     "metadata": {},
     "output_type": "execute_result"
    }
   ],
   "source": [
    "li = [1,2]  # a list can be of same data type, here i.e. integer\n",
    "li"
   ]
  },
  {
   "cell_type": "code",
   "execution_count": 9,
   "metadata": {},
   "outputs": [
    {
     "data": {
      "text/plain": [
       "[1, 2, 'Someone', 7.22]"
      ]
     },
     "execution_count": 9,
     "metadata": {},
     "output_type": "execute_result"
    }
   ],
   "source": [
    "li = [1,2,\"Someone\",7.22] # a list may contain int values but it can also hold other data type values like string\n",
    "                          # float etc\n",
    "li"
   ]
  },
  {
   "cell_type": "markdown",
   "metadata": {},
   "source": [
    "### Changing the individual values of list elements"
   ]
  },
  {
   "cell_type": "code",
   "execution_count": 12,
   "metadata": {},
   "outputs": [
    {
     "data": {
      "text/plain": [
       "[1, 2, 'Someone', 'Bro']"
      ]
     },
     "execution_count": 12,
     "metadata": {},
     "output_type": "execute_result"
    }
   ],
   "source": [
    "li[3] = \"Bro\" # here the element changed, has its index defined in initial assignment so it can be changed easily\n",
    "li"
   ]
  },
  {
   "cell_type": "code",
   "execution_count": 13,
   "metadata": {},
   "outputs": [
    {
     "ename": "IndexError",
     "evalue": "list assignment index out of range",
     "output_type": "error",
     "traceback": [
      "\u001b[0;31m---------------------------------------------------------------------------\u001b[0m",
      "\u001b[0;31mIndexError\u001b[0m                                Traceback (most recent call last)",
      "\u001b[0;32m<ipython-input-13-805fb3216290>\u001b[0m in \u001b[0;36m<module>\u001b[0;34m\u001b[0m\n\u001b[0;32m----> 1\u001b[0;31m \u001b[0mli\u001b[0m\u001b[0;34m[\u001b[0m\u001b[0;36m4\u001b[0m\u001b[0;34m]\u001b[0m \u001b[0;34m=\u001b[0m \u001b[0;36m8\u001b[0m \u001b[0;31m# here the element is assigned value at index 4 which was not\u001b[0m\u001b[0;34m\u001b[0m\u001b[0;34m\u001b[0m\u001b[0m\n\u001b[0m\u001b[1;32m      2\u001b[0m           \u001b[0;31m#  in initial declaration so it will return an error\u001b[0m\u001b[0;34m\u001b[0m\u001b[0;34m\u001b[0m\u001b[0;34m\u001b[0m\u001b[0m\n\u001b[1;32m      3\u001b[0m           \u001b[0;31m# so we need to define the array in such a way it can hold that much values\u001b[0m\u001b[0;34m\u001b[0m\u001b[0;34m\u001b[0m\u001b[0;34m\u001b[0m\u001b[0m\n",
      "\u001b[0;31mIndexError\u001b[0m: list assignment index out of range"
     ]
    }
   ],
   "source": [
    "li[4] = 8 # here the element is assigned value at index 4 which was not\n",
    "          # in initial declaration so it will return an error\n",
    "          # so we need to define the array in such a way it can hold that much values"
   ]
  },
  {
   "cell_type": "markdown",
   "metadata": {},
   "source": [
    "## Slicing of a list"
   ]
  },
  {
   "cell_type": "code",
   "execution_count": 16,
   "metadata": {},
   "outputs": [
    {
     "data": {
      "text/plain": [
       "[2, 'Someone']"
      ]
     },
     "execution_count": 16,
     "metadata": {},
     "output_type": "execute_result"
    }
   ],
   "source": [
    "li[1:3] # here the basic concept is the left value is starting index whereas the right value is ending index \n",
    "        # i.e. won't be included"
   ]
  },
  {
   "cell_type": "code",
   "execution_count": 21,
   "metadata": {},
   "outputs": [
    {
     "name": "stdout",
     "output_type": "stream",
     "text": [
      "[2, 'Someone', 'Bro']\n",
      "[1, 2, 'Someone', 'Bro']\n",
      "[2, 'Someone', 'Bro']\n"
     ]
    }
   ],
   "source": [
    "print(li[1:10]) # here even if the ending index is greater than list's size it'll still print till end of \n",
    "         # the list from starting of list and same goes vice versa i.e starting index is started from negative\n",
    "print(li[:])    # will print whole list\n",
    "print(li[1:])   # will print from starting index till last element"
   ]
  },
  {
   "cell_type": "markdown",
   "metadata": {},
   "source": [
    "### Inserting and appending in list"
   ]
  },
  {
   "cell_type": "code",
   "execution_count": 30,
   "metadata": {},
   "outputs": [],
   "source": [
    "li.append(\"Gaurav\")"
   ]
  },
  {
   "cell_type": "code",
   "execution_count": 31,
   "metadata": {},
   "outputs": [
    {
     "name": "stdout",
     "output_type": "stream",
     "text": [
      "[1, 4, 4, 4, 4, 4, 2, 2, 'Someone', 'Bro', 'Gaurav', 'Heya', 'Gaurav', 'Heya', 'Gaurav', 'Gaurav']\n",
      "[1, 4, 4, 4, 4, 4, 2, 2, 'Someone', 'Bro', 'Heya', 'Gaurav', 'Heya', 'Gaurav', 'Heya', 'Gaurav', 'Gaurav']\n"
     ]
    }
   ],
   "source": [
    "li.insert(1,4) # here insert contains two args which are first one: index value \n",
    "               #'second one': actual value for index\n",
    "print(li)\n",
    "li.insert(10,\"Heya\")\n",
    "print(li)"
   ]
  },
  {
   "cell_type": "code",
   "execution_count": 33,
   "metadata": {},
   "outputs": [
    {
     "name": "stdout",
     "output_type": "stream",
     "text": [
      "[1, 4, 4, 4, 4, 4, 2, 2, 'Someone', 'Bro', 'Heya', 'Gaurav', 'Heya', 'Gaurav', 'Heya', 'Gaurav', 'Gaurav', 'Poless', 'Poless']\n"
     ]
    }
   ],
   "source": [
    "li.insert(20,\"Poless\")\n",
    "print(li)"
   ]
  },
  {
   "cell_type": "code",
   "execution_count": 36,
   "metadata": {},
   "outputs": [
    {
     "data": {
      "text/plain": [
       "[1,\n",
       " 4,\n",
       " 4,\n",
       " 4,\n",
       " 4,\n",
       " 4,\n",
       " 2,\n",
       " 2,\n",
       " 'Someone',\n",
       " 'Bro',\n",
       " 'Heya',\n",
       " 'Gaurav',\n",
       " 'Heya',\n",
       " 'Gaurav',\n",
       " 'Heya',\n",
       " 'Gaurav',\n",
       " 'Gaurav',\n",
       " 'Poless',\n",
       " 'Poless',\n",
       " 9,\n",
       " 10,\n",
       " 111,\n",
       " 9,\n",
       " 10,\n",
       " 111]"
      ]
     },
     "execution_count": 36,
     "metadata": {},
     "output_type": "execute_result"
    }
   ],
   "source": [
    "# to append multiple values use this function in lists\n",
    "li.extend([9,10,111])\n",
    "li"
   ]
  },
  {
   "cell_type": "markdown",
   "metadata": {},
   "source": [
    "### Removing an element from list"
   ]
  },
  {
   "cell_type": "code",
   "execution_count": 37,
   "metadata": {},
   "outputs": [
    {
     "data": {
      "text/plain": [
       "[1,\n",
       " 4,\n",
       " 4,\n",
       " 4,\n",
       " 4,\n",
       " 4,\n",
       " 2,\n",
       " 'Someone',\n",
       " 'Bro',\n",
       " 'Heya',\n",
       " 'Gaurav',\n",
       " 'Heya',\n",
       " 'Gaurav',\n",
       " 'Heya',\n",
       " 'Gaurav',\n",
       " 'Gaurav',\n",
       " 'Poless',\n",
       " 'Poless',\n",
       " 9,\n",
       " 10,\n",
       " 111,\n",
       " 9,\n",
       " 10,\n",
       " 111]"
      ]
     },
     "execution_count": 37,
     "metadata": {},
     "output_type": "execute_result"
    }
   ],
   "source": [
    "li.remove(2) # so here the argument is 2 so list will remove first occurence of 2 from list\n",
    "li"
   ]
  },
  {
   "cell_type": "code",
   "execution_count": 38,
   "metadata": {},
   "outputs": [
    {
     "data": {
      "text/plain": [
       "[1,\n",
       " 4,\n",
       " 4,\n",
       " 4,\n",
       " 4,\n",
       " 2,\n",
       " 'Someone',\n",
       " 'Bro',\n",
       " 'Heya',\n",
       " 'Gaurav',\n",
       " 'Heya',\n",
       " 'Gaurav',\n",
       " 'Heya',\n",
       " 'Gaurav',\n",
       " 'Gaurav',\n",
       " 'Poless',\n",
       " 'Poless',\n",
       " 9,\n",
       " 10,\n",
       " 111,\n",
       " 9,\n",
       " 10,\n",
       " 111]"
      ]
     },
     "execution_count": 38,
     "metadata": {},
     "output_type": "execute_result"
    }
   ],
   "source": [
    "# to delete an element from its index we will use pop function for lists\n",
    "li.pop(4) # here argument contains index value\n",
    "li"
   ]
  },
  {
   "cell_type": "code",
   "execution_count": 39,
   "metadata": {},
   "outputs": [
    {
     "data": {
      "text/plain": [
       "111"
      ]
     },
     "execution_count": 39,
     "metadata": {},
     "output_type": "execute_result"
    }
   ],
   "source": [
    "li.pop() # if we don't assign any parameter the last element from list will be removed"
   ]
  }
 ],
 "metadata": {
  "kernelspec": {
   "display_name": "Python 3",
   "language": "python",
   "name": "python3"
  },
  "language_info": {
   "codemirror_mode": {
    "name": "ipython",
    "version": 3
   },
   "file_extension": ".py",
   "mimetype": "text/x-python",
   "name": "python",
   "nbconvert_exporter": "python",
   "pygments_lexer": "ipython3",
   "version": "3.6.8"
  }
 },
 "nbformat": 4,
 "nbformat_minor": 2
}
